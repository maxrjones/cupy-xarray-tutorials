{
 "cells": [
  {
   "cell_type": "markdown",
   "id": "93434031-d7fe-4322-a9cf-41e5b8be622d",
   "metadata": {},
   "source": [
    "# Notebook 2 : High-level Xarray Functions: CuPy vs. NumPy"
   ]
  },
  {
   "cell_type": "markdown",
   "id": "e86bf0cb-ec9d-4745-80db-58e12166b272",
   "metadata": {},
   "source": [
    "Negin Sobhani, Deepak Cherian, and Max Jones  \n",
    "negins@ucar.edu, dcherian@ucar.edu, and max@carbonplan.org\n",
    "\n",
    "------------"
   ]
  },
  {
   "cell_type": "markdown",
   "id": "4c0164c9-f970-4206-964a-d1d8080e2b0a",
   "metadata": {},
   "source": [
    "## Introduction \n",
    "\n",
    "In the previous tutorial, we introduced the powerful combination of Xarray and CuPy for handling multi-dimensional datasets and leveraging GPU acceleration to significantly improve performance. \n",
    "\n",
    "In this tutorial, we are going to explore high-level Xarray functions such as groupby, rolling mean, and weighted mean, and compared their execution times with traditional NumPy-based implementations.\n",
    "\n",
    "###  High-level Xarray Functions: CuPy vs. NumPy\n",
    "\n",
    "In thistutorial, we'll explore the performance differences between high-level Xarray functions using CuPy and NumPy. CuPy is a GPU-based NumPy-compatible library, while NumPy is the well-known CPU-based library for numerical computations. We'll focus on three high-level functions: groupby, rolling mean, and weighted mean. We'll also compare the time it takes to execute each function using both CuPy and NumPy.\n",
    "Let's create some sample data to work with.\n",
    "\n",
    "We'll use a 3-dimensional dataset (time, latitude, longitude) with random values:"
   ]
  },
  {
   "cell_type": "code",
   "execution_count": 1,
   "id": "e21d74da-e620-4737-91a4-0180f3703c75",
   "metadata": {},
   "outputs": [],
   "source": [
    "import time"
   ]
  },
  {
   "cell_type": "code",
   "execution_count": 2,
   "id": "377ac7ca-6c09-486f-95cc-8a2d599df800",
   "metadata": {},
   "outputs": [],
   "source": [
    "import numpy as np \n",
    "import xarray as xr"
   ]
  },
  {
   "cell_type": "code",
   "execution_count": 3,
   "id": "447116b1-bc54-4d0a-af46-5908a7f95e93",
   "metadata": {},
   "outputs": [],
   "source": [
    "import cupy as cp\n",
    "import cupy_xarray  # Adds .cupy to Xarray objects"
   ]
  },
  {
   "cell_type": "code",
   "execution_count": 4,
   "id": "5f6f83a3-36d6-493d-bfda-49f5d766ef14",
   "metadata": {},
   "outputs": [],
   "source": [
    "np.random.seed(0)\n",
    "data_np = np.random.rand(1000, 180, 360)\n",
    "data_cp = cp.array(data_np)\n",
    "data_xr_np = xr.DataArray(data_np, dims=['time', 'lat', 'lon'])\n",
    "data_xr_cp = xr.DataArray(data_cp, dims=['time', 'lat', 'lon'])"
   ]
  },
  {
   "cell_type": "markdown",
   "id": "6ea80193-172e-45c9-af18-1ec288c4bbd8",
   "metadata": {},
   "source": [
    "#### Groupby\n",
    "The groupby function is used to group data based on one or more dimensions. Here, we'll group our data by the 'time' dimension using both CuPy and NumPy:"
   ]
  },
  {
   "cell_type": "code",
   "execution_count": 5,
   "id": "e1c0b119-23f9-4397-957a-ace2a607ab6f",
   "metadata": {},
   "outputs": [],
   "source": [
    "start_time_np = time.time()\n",
    "\n",
    "grouped_data_np = data_xr_np.groupby('time')\n",
    "\n",
    "end_time_np = time.time()\n",
    "time_np = end_time_np - start_time_np"
   ]
  },
  {
   "cell_type": "code",
   "execution_count": 6,
   "id": "973e4b7e-1b2f-4fbb-a4da-a7a47b1be327",
   "metadata": {},
   "outputs": [
    {
     "name": "stdout",
     "output_type": "stream",
     "text": [
      "GroupBy with Xarray DataArrays using CuPy provides a 7.96 x speedup over NumPy.\n",
      "\n"
     ]
    }
   ],
   "source": [
    "start_time_cp = time.time()\n",
    "\n",
    "grouped_data_cp = data_xr_cp.groupby('time')\n",
    "\n",
    "end_time_cp = time.time()\n",
    "time_cp = end_time_cp - start_time_cp\n",
    "\n",
    "print(\"GroupBy with Xarray DataArrays using CuPy provides a\", round(time_np / time_cp,2), \"x speedup over NumPy.\\n\")"
   ]
  },
  {
   "cell_type": "markdown",
   "id": "d3d10f6d-74a3-494d-a564-a780415373b2",
   "metadata": {},
   "source": [
    "### Rolling Mean:\n",
    "\n",
    "The rolling mean is a widely used technique for smoothing data over a specified window. We'll calculate the rolling mean along the 'time' dimension with a window size of 10:"
   ]
  },
  {
   "cell_type": "code",
   "execution_count": 7,
   "id": "d30fc60b-d947-43ec-8699-852c1aca6b59",
   "metadata": {},
   "outputs": [
    {
     "data": {
      "text/plain": [
       "<xarray.core.options.set_options at 0x2b72e8d90fa0>"
      ]
     },
     "execution_count": 7,
     "metadata": {},
     "output_type": "execute_result"
    }
   ],
   "source": [
    "xr.set_options(use_bottleneck=False)"
   ]
  },
  {
   "cell_type": "code",
   "execution_count": 8,
   "id": "a0202ef1-e8a4-4676-9b20-3e91a175b78f",
   "metadata": {},
   "outputs": [],
   "source": [
    "start_time_np = time.time()\n",
    "\n",
    "rolling_mean_np = data_xr_np.rolling(time=10).mean()\n",
    "\n",
    "end_time_np = time.time()\n",
    "time_np = end_time_np - start_time_np\n"
   ]
  },
  {
   "cell_type": "code",
   "execution_count": 9,
   "id": "2f496410-b347-4f20-a1de-44e39129177d",
   "metadata": {},
   "outputs": [],
   "source": [
    "start_time_cp = time.time()\n",
    "\n",
    "rolling_mean_cp = data_xr_cp.rolling(time=10).mean()\n",
    "\n",
    "end_time_cp = time.time()\n",
    "time_cp = end_time_cp - start_time_cp"
   ]
  },
  {
   "cell_type": "code",
   "execution_count": 10,
   "id": "1211e89c-7d17-462f-99ac-18a71245adf8",
   "metadata": {},
   "outputs": [
    {
     "name": "stdout",
     "output_type": "stream",
     "text": [
      "Rolling mean with Xarray DataArrays using CuPy provides a 17.9 x speedup over NumPy.\n",
      "\n"
     ]
    }
   ],
   "source": [
    "print(\"Rolling mean with Xarray DataArrays using CuPy provides a\", round(time_np / time_cp,2), \"x speedup over NumPy.\\n\")"
   ]
  },
  {
   "cell_type": "markdown",
   "id": "c75ff2c6-1f65-4545-bf76-274ff1ec3939",
   "metadata": {},
   "source": [
    "### Weighted Mean\n",
    "\n",
    "The weighted mean is another way to smooth data, taking into account the varying importance of each data point. Here, we'll use a uniform weight along the 'time' dimension:\n",
    "\n"
   ]
  },
  {
   "cell_type": "code",
   "execution_count": null,
   "id": "1a580f4f-769c-46fe-84e7-1a8372362ad5",
   "metadata": {},
   "outputs": [],
   "source": [
    "start_time_np = time.time()\n",
    "\n",
    "weights_np = xr.DataArray(np.ones_like(data_np), dims=\"time\")\n",
    "weighted_mean_np = data_xr_np.weighted(weights_np).mean(dim='time')\n",
    "\n",
    "end_time_np = time.time()\n",
    "time_np = end_time_np - start_time_np"
   ]
  },
  {
   "cell_type": "code",
   "execution_count": null,
   "id": "bcce9e70-67c9-4228-ac18-311fa3a555f3",
   "metadata": {},
   "outputs": [],
   "source": [
    "start_time_cp = time.time()\n",
    "\n",
    "weights_cp = xr.DataArray(cp.ones_like(data_cp), dims=\"time\")\n",
    "weighted_mean_cp = data_xr_cp.weighted(weights_cp).mean(dim='time')\n",
    "\n",
    "end_time_cp = time.time()\n",
    "time_cp = end_time_cp - start_time_cp"
   ]
  },
  {
   "cell_type": "markdown",
   "id": "6d0c1df5-52a6-4954-97f0-0e0aef2c1518",
   "metadata": {},
   "source": [
    "## Apply custom kernels with apply_ufunc"
   ]
  },
  {
   "cell_type": "markdown",
   "id": "b54d09ca-b342-4dba-aa6c-9b7857cfa558",
   "metadata": {},
   "source": [
    "## Plotting (possibly in the other notebook). "
   ]
  },
  {
   "cell_type": "code",
   "execution_count": null,
   "id": "b62fd90e-00b0-431a-88b3-1cc38f50b618",
   "metadata": {},
   "outputs": [],
   "source": []
  }
 ],
 "metadata": {
  "kernelspec": {
   "display_name": "Python [conda env:gpu-xdev]",
   "language": "python",
   "name": "conda-env-gpu-xdev-py"
  },
  "language_info": {
   "codemirror_mode": {
    "name": "ipython",
    "version": 3
   },
   "file_extension": ".py",
   "mimetype": "text/x-python",
   "name": "python",
   "nbconvert_exporter": "python",
   "pygments_lexer": "ipython3",
   "version": "3.9.15"
  },
  "widgets": {
   "application/vnd.jupyter.widget-state+json": {
    "state": {},
    "version_major": 2,
    "version_minor": 0
   }
  }
 },
 "nbformat": 4,
 "nbformat_minor": 5
}
