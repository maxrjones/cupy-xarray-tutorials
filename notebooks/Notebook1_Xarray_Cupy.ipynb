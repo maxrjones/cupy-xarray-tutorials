{
 "cells": [
  {
   "cell_type": "markdown",
   "id": "0d6fecdf-48c0-4745-b802-2117fb3137cf",
   "metadata": {},
   "source": [
    "# Fundamental Xarray + Cupy"
   ]
  },
  {
   "cell_type": "markdown",
   "id": "33f29f17-cfd2-478a-b913-6b126394df3a",
   "metadata": {},
   "source": [
    "Negin Sobhani, Deepak Cherian, and Max Jones  \n",
    "negins@ucar.edu, dcherian@ucar.edu, and max@carbonplan.org\n",
    "\n",
    "------------"
   ]
  },
  {
   "cell_type": "markdown",
   "id": "15a05d43-0bf5-48d3-9c88-6074eed82a04",
   "metadata": {},
   "source": [
    "## Introduction "
   ]
  },
  {
   "cell_type": "markdown",
   "id": "8cfcfa1f-f74a-405b-957d-3c925aca7eb4",
   "metadata": {},
   "source": [
    "Xarray is a powerful library for working with labeled multi-dimensional arrays in Python. It provides a convenient and intuitive way to manipulate large and complex datasets, and is built on top of NumPy. CuPy, on the other hand, is a library that allows for efficient numerical computations on NVIDIA GPUs. \n",
    "\n",
    "\n",
    "When used together, Xarray and CuPy can provide an easy way to take advantage of GPU acceleration for scientific computing tasks. cupy-xarray provides an interface for using cupy in xarray, providing convenience accessors. \n",
    "\n",
    "In this tutorial, we'll explore how to use these two libraries together to perform high-performance computations on large datasets."
   ]
  },
  {
   "cell_type": "markdown",
   "id": "77343efb-de6d-423c-b1cd-934c5d6d68e1",
   "metadata": {},
   "source": [
    "### Using CuPy with Xarray\n",
    "\n"
   ]
  },
  {
   "cell_type": "code",
   "execution_count": 5,
   "id": "55c72b7d-8899-4e2f-9432-e9cf1531cbdf",
   "metadata": {},
   "outputs": [],
   "source": [
    "## Import NumPy and CuPy\n",
    "import cupy as cp\n",
    "import numpy as np\n",
    "import xarray as xr\n",
    "import cupy_xarray # Adds .cupy to Xarray objects"
   ]
  },
  {
   "cell_type": "markdown",
   "id": "4ed42841-264a-4eb6-9f82-be9a463be816",
   "metadata": {},
   "source": [
    "#### Creating Xarray DataArray with CuPy"
   ]
  },
  {
   "cell_type": "code",
   "execution_count": 6,
   "id": "67e76867-373b-4011-b7c6-cb9b737e54c7",
   "metadata": {},
   "outputs": [],
   "source": [
    "# create a DataArray with three dimensions and 100 elements along each dimension\n",
    "da_np = xr.DataArray(np.random.rand(100, 100, 100), dims=['x', 'y', 'z'])\n",
    "\n",
    "# create a DataArray with three dimensions and 100 elements along each dimension\n",
    "da_cp = xr.DataArray(cp.random.rand(100, 100, 100), dims=['x', 'y', 'z'])"
   ]
  },
  {
   "cell_type": "markdown",
   "id": "e8b4cf67-6b7a-48e0-8f18-441024bd271c",
   "metadata": {},
   "source": [
    "Check if these arrays are on GPU:"
   ]
  },
  {
   "cell_type": "code",
   "execution_count": 7,
   "id": "f0b43b25-b0d9-4809-9b11-729077b81d4e",
   "metadata": {},
   "outputs": [
    {
     "data": {
      "text/plain": [
       "False"
      ]
     },
     "execution_count": 7,
     "metadata": {},
     "output_type": "execute_result"
    }
   ],
   "source": [
    "da_np.cupy.is_cupy"
   ]
  },
  {
   "cell_type": "code",
   "execution_count": 8,
   "id": "883128df-fdca-4603-9797-52e6d53ced7f",
   "metadata": {},
   "outputs": [
    {
     "data": {
      "text/plain": [
       "True"
      ]
     },
     "execution_count": 8,
     "metadata": {},
     "output_type": "execute_result"
    }
   ],
   "source": [
    "da_cp.cupy.is_cupy"
   ]
  },
  {
   "cell_type": "code",
   "execution_count": 9,
   "id": "b70eb4b1-42ce-499a-bb15-1831351edd8b",
   "metadata": {},
   "outputs": [
    {
     "data": {
      "text/plain": [
       "<CUDA Device 0>"
      ]
     },
     "execution_count": 9,
     "metadata": {},
     "output_type": "execute_result"
    }
   ],
   "source": [
    "da_cp.data.device"
   ]
  },
  {
   "cell_type": "markdown",
   "id": "62af1f7c-0ac2-4bad-ab92-8f1bcfbaffe3",
   "metadata": {},
   "source": [
    "### Basic Operations with Xarray and CuPy"
   ]
  },
  {
   "cell_type": "markdown",
   "id": "d8ffedc1-51e3-4a9f-8925-b98650133a44",
   "metadata": {},
   "source": [
    "Once we have created a DataArray using CuPy, we can perform various operations on it using the familiar Xarray syntax. For example:"
   ]
  },
  {
   "cell_type": "code",
   "execution_count": 10,
   "id": "d812cb7b-8a9e-40d3-b2eb-9ed051554db9",
   "metadata": {},
   "outputs": [
    {
     "name": "stdout",
     "output_type": "stream",
     "text": [
      "CPU times: user 196 ms, sys: 7.2 ms, total: 203 ms\n",
      "Wall time: 276 ms\n"
     ]
    }
   ],
   "source": [
    "%%time\n",
    "# calculate the mean along the x dimension\n",
    "mean_da = da_cp.mean(dim='x')"
   ]
  },
  {
   "cell_type": "code",
   "execution_count": 14,
   "id": "ea6636c6-d666-4d26-aa38-cea7fbf1a090",
   "metadata": {},
   "outputs": [
    {
     "name": "stdout",
     "output_type": "stream",
     "text": [
      "<class 'xarray.core.dataarray.DataArray'>\n"
     ]
    }
   ],
   "source": [
    "print (type(mean_da))"
   ]
  },
  {
   "cell_type": "code",
   "execution_count": 11,
   "id": "35bc6495-54bf-40a8-9417-5852f0f8731b",
   "metadata": {},
   "outputs": [
    {
     "name": "stdout",
     "output_type": "stream",
     "text": [
      "CPU times: user 750 ms, sys: 13.6 ms, total: 763 ms\n",
      "Wall time: 812 ms\n"
     ]
    }
   ],
   "source": [
    "%%time \n",
    "# calculate the standard deviation along the y and z dimensions\n",
    "std_da = da_cp.std(dim=['y', 'z'])"
   ]
  },
  {
   "cell_type": "code",
   "execution_count": 13,
   "id": "c4c05ec3-68f1-4106-8ee3-587014eaf40e",
   "metadata": {},
   "outputs": [
    {
     "name": "stdout",
     "output_type": "stream",
     "text": [
      "<class 'xarray.core.dataarray.DataArray'>\n"
     ]
    }
   ],
   "source": [
    "print (type(std_da))"
   ]
  },
  {
   "cell_type": "markdown",
   "id": "629a7339-b7ad-4636-a5f3-93e0772829f0",
   "metadata": {},
   "source": [
    "<div class=\"alert alert-block alert-success\">\n",
    "<b> Most Xarray operations preserve array type. </b>\n",
    "</div>\n"
   ]
  },
  {
   "cell_type": "markdown",
   "id": "ac17a9bd-c963-42f2-8447-b298f8ef8cc9",
   "metadata": {},
   "source": [
    "## Comparing Performance: CuPy with Xarray vs NumPy with Xarray\n",
    "To compare the performance of using CuPy with Xarray to using NumPy with Xarray, let's perform a matrix multiplication operation using both libraries."
   ]
  },
  {
   "cell_type": "code",
   "execution_count": 15,
   "id": "9d18d737-ba4b-45ee-a4be-5d341129231c",
   "metadata": {},
   "outputs": [
    {
     "name": "stdout",
     "output_type": "stream",
     "text": [
      "CuPy with Xarray provides a 0.04x speedup over NumPy with Xarray.\n"
     ]
    }
   ],
   "source": [
    "import time\n",
    "# create two 1000x1000 DataArrays\n",
    "n = 1000\n",
    "da_np = xr.DataArray(np.random.rand(n, n), dims=['x', 'y'])\n",
    "da_cp = xr.DataArray(cp.random.rand(n, n), dims=['x', 'y'])\n",
    "\n",
    "# perform matrix multiplication with Xarray and NumPy\n",
    "start_time = time.time()\n",
    "result_np = da_np.dot(da_np)\n",
    "end_time = time.time()\n",
    "numpy_time = end_time - start_time\n",
    "\n",
    "# perform matrix multiplication with Xarray and CuPy\n",
    "start_time = time.time()\n",
    "result_cp = da_cp.dot(da_cp)\n",
    "cp.cuda.Stream.null.synchronize()  # wait for GPU computation to finish\n",
    "end_time = time.time()\n",
    "cupy_time = end_time - start_time\n",
    "\n",
    "# calculate the speedup value with two decimal places\n",
    "speedup = round(numpy_time / cupy_time, 2)\n",
    "\n",
    "# print the speedup\n",
    "print(f\"CuPy with Xarray provides a {speedup:.2f}x speedup over NumPy with Xarray.\")\n"
   ]
  },
  {
   "cell_type": "markdown",
   "id": "662bb0c3-4051-4125-b801-173b8b3c30b5",
   "metadata": {},
   "source": [
    "Now, let's make the same comparison with other array sizes:"
   ]
  },
  {
   "cell_type": "code",
   "execution_count": 16,
   "id": "bba9681e-ca7b-486c-92c8-1a79434ba0da",
   "metadata": {},
   "outputs": [
    {
     "name": "stdout",
     "output_type": "stream",
     "text": [
      "n = 10\n",
      "Xarray DataArrays using CuPy provides a 0.7 x speedup over NumPy.\n",
      "\n",
      "n = 100\n",
      "Xarray DataArrays using CuPy provides a 0.55 x speedup over NumPy.\n",
      "\n",
      "n = 1000\n",
      "Xarray DataArrays using CuPy provides a 2.04 x speedup over NumPy.\n",
      "\n",
      "n = 5000\n",
      "Xarray DataArrays using CuPy provides a 18.64 x speedup over NumPy.\n",
      "\n",
      "n = 10000\n",
      "Xarray DataArrays using CuPy provides a 33.34 x speedup over NumPy.\n",
      "\n",
      "n = 25000\n",
      "Xarray DataArrays using CuPy provides a 53.72 x speedup over NumPy.\n",
      "\n"
     ]
    }
   ],
   "source": [
    "for n in [10, 100, 1000, 5000, 10000, 25000]:\n",
    "    print(\"n =\", n)\n",
    "\n",
    "    da_np = xr.DataArray(np.random.rand(n, n), dims=['x', 'y'])\n",
    "    da_cp = xr.DataArray(cp.random.rand(n, n), dims=['x', 'y'])\n",
    "\n",
    "    # perform matrix multiplication with Xarray and NumPy\n",
    "    start_time = time.time()\n",
    "    result_np = da_np.dot(da_np)\n",
    "    end_time = time.time()\n",
    "    numpy_time = end_time - start_time\n",
    "\n",
    "    # perform matrix multiplication with Xarray and CuPy\n",
    "    start_time = time.time()\n",
    "    result_cp = da_cp.dot(da_cp)\n",
    "    cp.cuda.Stream.null.synchronize()  # wait for GPU computation to finish\n",
    "    end_time = time.time()\n",
    "    cupy_time = end_time - start_time\n",
    "\n",
    "    print(\"Xarray DataArrays using CuPy provides a\", round(numpy_time / cupy_time,2), \"x speedup over NumPy.\\n\")"
   ]
  },
  {
   "cell_type": "code",
   "execution_count": null,
   "id": "aa13346a-48e5-4254-ac6b-02069d168421",
   "metadata": {},
   "outputs": [],
   "source": []
  },
  {
   "cell_type": "markdown",
   "id": "2e30be9a-149e-4108-8478-c5c262ca18c7",
   "metadata": {},
   "source": []
  },
  {
   "cell_type": "code",
   "execution_count": 9,
   "id": "5b823dc3-245a-43ae-bb3f-e8b8aecf514c",
   "metadata": {},
   "outputs": [],
   "source": []
  },
  {
   "cell_type": "markdown",
   "id": "b41d9787-44bd-4de6-a833-58469c165323",
   "metadata": {},
   "source": [
    "Plotting ?"
   ]
  },
  {
   "cell_type": "code",
   "execution_count": null,
   "id": "da7e6b1d-fe8a-4c56-a113-0fd2bbb5350f",
   "metadata": {},
   "outputs": [],
   "source": [
    "Also plotting results from the benchmark\n"
   ]
  }
 ],
 "metadata": {
  "kernelspec": {
   "display_name": "Python [conda env:gpu-xdev]",
   "language": "python",
   "name": "conda-env-gpu-xdev-py"
  },
  "language_info": {
   "codemirror_mode": {
    "name": "ipython",
    "version": 3
   },
   "file_extension": ".py",
   "mimetype": "text/x-python",
   "name": "python",
   "nbconvert_exporter": "python",
   "pygments_lexer": "ipython3",
   "version": "3.9.15"
  },
  "widgets": {
   "application/vnd.jupyter.widget-state+json": {
    "state": {},
    "version_major": 2,
    "version_minor": 0
   }
  }
 },
 "nbformat": 4,
 "nbformat_minor": 5
}
