{
 "cells": [
  {
   "cell_type": "markdown",
   "id": "0d6fecdf-48c0-4745-b802-2117fb3137cf",
   "metadata": {},
   "source": [
    "# Notebook 1 : Cupy + Xarray"
   ]
  },
  {
   "cell_type": "markdown",
   "id": "33f29f17-cfd2-478a-b913-6b126394df3a",
   "metadata": {},
   "source": [
    "Negin Sobhani and Deepak Cherian  \n",
    "Computational & Information Systems Lab (CISL)  \n",
    "negins@ucar.edu, dcherian@ucar.edu  \n",
    "\n",
    "------------"
   ]
  },
  {
   "cell_type": "markdown",
   "id": "15a05d43-0bf5-48d3-9c88-6074eed82a04",
   "metadata": {},
   "source": [
    "## Introduction "
   ]
  },
  {
   "cell_type": "markdown",
   "id": "8cfcfa1f-f74a-405b-957d-3c925aca7eb4",
   "metadata": {},
   "source": [
    "Xarray is a powerful library for working with labeled multi-dimensional arrays in Python. It provides a convenient and intuitive way to manipulate large and complex datasets, and is built on top of NumPy. CuPy, on the other hand, is a library that allows for efficient numerical computations on NVIDIA GPUs. \n",
    "\n",
    "\n",
    "When used together, Xarray and CuPy can provide an easy way to take advantage of GPU acceleration for scientific computing tasks. cupy-xarray provides an interface for using cupy in xarray, providing convenience accessors. \n",
    "\n",
    "In this tutorial, we'll explore how to use these two libraries together to perform high-performance computations on large datasets."
   ]
  },
  {
   "cell_type": "markdown",
   "id": "77343efb-de6d-423c-b1cd-934c5d6d68e1",
   "metadata": {},
   "source": [
    "### Using CuPy with Xarray\n",
    "\n"
   ]
  },
  {
   "cell_type": "code",
   "execution_count": 7,
   "id": "55c72b7d-8899-4e2f-9432-e9cf1531cbdf",
   "metadata": {},
   "outputs": [],
   "source": [
    "## Import NumPy and CuPy\n",
    "import cupy as cp\n",
    "import numpy as np\n",
    "import xarray as xr\n",
    "import cupy_xarray # Adds .cupy to Xarray objects"
   ]
  },
  {
   "cell_type": "markdown",
   "id": "4ed42841-264a-4eb6-9f82-be9a463be816",
   "metadata": {},
   "source": [
    "#### Creating Xarray DataArray with CuPy"
   ]
  },
  {
   "cell_type": "code",
   "execution_count": 10,
   "id": "67e76867-373b-4011-b7c6-cb9b737e54c7",
   "metadata": {},
   "outputs": [],
   "source": [
    "# create a DataArray with three dimensions and 100 elements along each dimension\n",
    "da_np = xr.DataArray(np.random.rand(100, 100, 100), dims=['x', 'y', 'z'])\n",
    "\n",
    "# create a DataArray with three dimensions and 100 elements along each dimension\n",
    "da_cp = xr.DataArray(cp.random.rand(100, 100, 100), dims=['x', 'y', 'z'])"
   ]
  },
  {
   "cell_type": "markdown",
   "id": "e8b4cf67-6b7a-48e0-8f18-441024bd271c",
   "metadata": {},
   "source": [
    "Check if these arrays are on GPU:"
   ]
  },
  {
   "cell_type": "code",
   "execution_count": 11,
   "id": "f0b43b25-b0d9-4809-9b11-729077b81d4e",
   "metadata": {},
   "outputs": [
    {
     "data": {
      "text/plain": [
       "False"
      ]
     },
     "execution_count": 11,
     "metadata": {},
     "output_type": "execute_result"
    }
   ],
   "source": [
    "da_np.cupy.is_cupy"
   ]
  },
  {
   "cell_type": "code",
   "execution_count": 4,
   "id": "883128df-fdca-4603-9797-52e6d53ced7f",
   "metadata": {},
   "outputs": [
    {
     "data": {
      "text/plain": [
       "True"
      ]
     },
     "execution_count": 4,
     "metadata": {},
     "output_type": "execute_result"
    }
   ],
   "source": [
    "da_cp.cupy.is_cupy"
   ]
  },
  {
   "cell_type": "code",
   "execution_count": 5,
   "id": "b70eb4b1-42ce-499a-bb15-1831351edd8b",
   "metadata": {},
   "outputs": [
    {
     "data": {
      "text/plain": [
       "<CUDA Device 0>"
      ]
     },
     "execution_count": 5,
     "metadata": {},
     "output_type": "execute_result"
    }
   ],
   "source": [
    "da_cp.data.device"
   ]
  },
  {
   "cell_type": "markdown",
   "id": "62af1f7c-0ac2-4bad-ab92-8f1bcfbaffe3",
   "metadata": {},
   "source": [
    "### Performing Basic Operations with Xarray and CuPy"
   ]
  },
  {
   "cell_type": "markdown",
   "id": "d8ffedc1-51e3-4a9f-8925-b98650133a44",
   "metadata": {},
   "source": [
    "Once we have created a DataArray using CuPy, we can perform various operations on it using the familiar Xarray syntax. For example:"
   ]
  },
  {
   "cell_type": "code",
   "execution_count": 6,
   "id": "d812cb7b-8a9e-40d3-b2eb-9ed051554db9",
   "metadata": {},
   "outputs": [
    {
     "name": "stdout",
     "output_type": "stream",
     "text": [
      "CPU times: user 874 ms, sys: 18.4 ms, total: 892 ms\n",
      "Wall time: 968 ms\n"
     ]
    }
   ],
   "source": [
    "%%time\n",
    "# calculate the mean along the x dimension\n",
    "mean_da = da_cp.mean(dim='x')\n",
    "\n",
    "# calculate the standard deviation along the y and z dimensions\n",
    "std_da = da_cp.std(dim=['y', 'z'])"
   ]
  },
  {
   "cell_type": "markdown",
   "id": "ac17a9bd-c963-42f2-8447-b298f8ef8cc9",
   "metadata": {},
   "source": [
    "## Comparing Performance: CuPy with Xarray vs NumPy with Xarray\n",
    "To compare the performance of using CuPy with Xarray to using NumPy with Xarray, let's perform a matrix multiplication operation using both libraries."
   ]
  },
  {
   "cell_type": "code",
   "execution_count": 39,
   "id": "9d18d737-ba4b-45ee-a4be-5d341129231c",
   "metadata": {},
   "outputs": [
    {
     "name": "stdout",
     "output_type": "stream",
     "text": [
      "CuPy with Xarray provides a 3.28x speedup over NumPy with Xarray.\n"
     ]
    }
   ],
   "source": [
    "import time\n",
    "# create two 1000x1000 DataArrays\n",
    "n = 1000\n",
    "da_np = xr.DataArray(np.random.rand(n, n), dims=['x', 'y'])\n",
    "da_cp = xr.DataArray(cp.random.rand(n, n), dims=['x', 'y'])\n",
    "\n",
    "# perform matrix multiplication with Xarray and NumPy\n",
    "start_time = time.time()\n",
    "result_np = da_np.dot(da_np)\n",
    "end_time = time.time()\n",
    "numpy_time = end_time - start_time\n",
    "\n",
    "# perform matrix multiplication with Xarray and CuPy\n",
    "start_time = time.time()\n",
    "result_cp = da_cp.dot(da_cp)\n",
    "cp.cuda.Stream.null.synchronize()  # wait for GPU computation to finish\n",
    "end_time = time.time()\n",
    "cupy_time = end_time - start_time\n",
    "\n",
    "# calculate the speedup value with two decimal places\n",
    "speedup = round(numpy_time / cupy_time, 2)\n",
    "\n",
    "# print the speedup\n",
    "print(f\"CuPy with Xarray provides a {speedup:.2f}x speedup over NumPy with Xarray.\")\n"
   ]
  },
  {
   "cell_type": "markdown",
   "id": "662bb0c3-4051-4125-b801-173b8b3c30b5",
   "metadata": {},
   "source": [
    "Now, let's make the same comparison with other array sizes:"
   ]
  },
  {
   "cell_type": "code",
   "execution_count": 43,
   "id": "bba9681e-ca7b-486c-92c8-1a79434ba0da",
   "metadata": {},
   "outputs": [
    {
     "name": "stdout",
     "output_type": "stream",
     "text": [
      "n = 10\n",
      "Xarray DataArrays using CuPy provides a 1.0 x speedup over NumPy.\n",
      "\n",
      "n = 100\n",
      "Xarray DataArrays using CuPy provides a 0.77 x speedup over NumPy.\n",
      "\n",
      "n = 1000\n",
      "Xarray DataArrays using CuPy provides a 0.36 x speedup over NumPy.\n",
      "\n",
      "n = 5000\n",
      "Xarray DataArrays using CuPy provides a 26.18 x speedup over NumPy.\n",
      "\n",
      "n = 10000\n",
      "Xarray DataArrays using CuPy provides a 56.08 x speedup over NumPy.\n",
      "\n",
      "n = 25000\n",
      "Xarray DataArrays using CuPy provides a 85.47 x speedup over NumPy.\n",
      "\n"
     ]
    }
   ],
   "source": [
    "for n in [10, 100, 1000, 5000, 10000, 25000]:\n",
    "    print(\"n =\", n)\n",
    "\n",
    "    da_np = xr.DataArray(np.random.rand(n, n), dims=['x', 'y'])\n",
    "    da_cp = xr.DataArray(cp.random.rand(n, n), dims=['x', 'y'])\n",
    "\n",
    "    # perform matrix multiplication with Xarray and NumPy\n",
    "    start_time = time.time()\n",
    "    result_np = da_np.dot(da_np)\n",
    "    end_time = time.time()\n",
    "    numpy_time = end_time - start_time\n",
    "\n",
    "    # perform matrix multiplication with Xarray and CuPy\n",
    "    start_time = time.time()\n",
    "    result_cp = da_cp.dot(da_cp)\n",
    "    cp.cuda.Stream.null.synchronize()  # wait for GPU computation to finish\n",
    "    end_time = time.time()\n",
    "    cupy_time = end_time - start_time\n",
    "\n",
    "    print(\"Xarray DataArrays using CuPy provides a\", round(numpy_time / cupy_time,2), \"x speedup over NumPy.\\n\")"
   ]
  },
  {
   "cell_type": "markdown",
   "id": "2e30be9a-149e-4108-8478-c5c262ca18c7",
   "metadata": {},
   "source": [
    "## High-level Xarray Functions: CuPy vs. NumPy\n",
    "\n",
    "In this section of the tutorial, we'll explore the performance differences between high-level Xarray functions using CuPy and NumPy. CuPy is a GPU-based NumPy-compatible library, while NumPy is the well-known CPU-based library for numerical computations. We'll focus on three high-level functions: groupby, rolling mean, and weighted mean. We'll also compare the time it takes to execute each function using both CuPy and NumPy.\n",
    "Let's create some sample data to work with.\n",
    "\n",
    "We'll use a 3-dimensional dataset (time, latitude, longitude) with random values:"
   ]
  },
  {
   "cell_type": "code",
   "execution_count": 54,
   "id": "5b823dc3-245a-43ae-bb3f-e8b8aecf514c",
   "metadata": {},
   "outputs": [],
   "source": [
    "np.random.seed(0)\n",
    "data_np = np.random.rand(1000, 180, 360)\n",
    "data_cp = cp.array(data_np)\n",
    "data_xr_np = xr.DataArray(data_np, dims=['time', 'lat', 'lon'])\n",
    "data_xr_cp = xr.DataArray(data_cp, dims=['time', 'lat', 'lon'])"
   ]
  },
  {
   "cell_type": "markdown",
   "id": "7195a018-6c68-4f61-9568-732a2be5fa97",
   "metadata": {},
   "source": [
    "### Groupby\n",
    "The groupby function is used to group data based on one or more dimensions. Here, we'll group our data by the 'time' dimension using both CuPy and NumPy:"
   ]
  },
  {
   "cell_type": "code",
   "execution_count": 55,
   "id": "4e00d872-ef8b-400f-9604-8b32a90fbec1",
   "metadata": {},
   "outputs": [],
   "source": [
    "start_time_np = time.time()\n",
    "\n",
    "grouped_data_np = data_xr_np.groupby('time')\n",
    "\n",
    "end_time_np = time.time()\n",
    "time_np = end_time_np - start_time_np"
   ]
  },
  {
   "cell_type": "code",
   "execution_count": 1,
   "id": "82de13c0-f7bb-4200-b815-bbc226b1f3dd",
   "metadata": {},
   "outputs": [
    {
     "ename": "NameError",
     "evalue": "name 'time' is not defined",
     "output_type": "error",
     "traceback": [
      "\u001b[0;31m---------------------------------------------------------------------------\u001b[0m",
      "\u001b[0;31mNameError\u001b[0m                                 Traceback (most recent call last)",
      "Cell \u001b[0;32mIn[1], line 1\u001b[0m\n\u001b[0;32m----> 1\u001b[0m start_time_cp \u001b[38;5;241m=\u001b[39m \u001b[43mtime\u001b[49m\u001b[38;5;241m.\u001b[39mtime()\n\u001b[1;32m      3\u001b[0m grouped_data_cp \u001b[38;5;241m=\u001b[39m data_xr_cp\u001b[38;5;241m.\u001b[39mgroupby(\u001b[38;5;124m'\u001b[39m\u001b[38;5;124mtime\u001b[39m\u001b[38;5;124m'\u001b[39m)\n\u001b[1;32m      5\u001b[0m end_time_cp \u001b[38;5;241m=\u001b[39m time\u001b[38;5;241m.\u001b[39mtime()\n",
      "\u001b[0;31mNameError\u001b[0m: name 'time' is not defined"
     ]
    }
   ],
   "source": [
    "start_time_cp = time.time()\n",
    "\n",
    "grouped_data_cp = data_xr_cp.groupby('time')\n",
    "\n",
    "end_time_cp = time.time()\n",
    "time_cp = end_time_cp - start_time_cp\n",
    "\n",
    "print(\"GroupBy with Xarray DataArrays using CuPy provides a\", round(time_np / time_cp,2), \"x speedup over NumPy.\\n\")"
   ]
  },
  {
   "cell_type": "markdown",
   "id": "c96de627-dab4-443e-915e-f77c9fd722f2",
   "metadata": {},
   "source": [
    "### Rolling Mean:\n",
    "\n",
    "The rolling mean is a widely used technique for smoothing data over a specified window. We'll calculate the rolling mean along the 'time' dimension with a window size of 10:"
   ]
  },
  {
   "cell_type": "code",
   "execution_count": 58,
   "id": "73a7154a-d8ac-491e-b452-6022bdbe53d1",
   "metadata": {},
   "outputs": [],
   "source": [
    "start_time_np = time.time()\n",
    "\n",
    "rolling_mean_np = data_xr_np.rolling(time=10).mean()\n",
    "\n",
    "end_time_np = time.time()\n",
    "time_np = end_time_np - start_time_np"
   ]
  },
  {
   "cell_type": "code",
   "execution_count": 60,
   "id": "1d328db3-4a8d-4052-b7cf-d8a4c68c7fe4",
   "metadata": {},
   "outputs": [
    {
     "ename": "TypeError",
     "evalue": "Implicit conversion to a NumPy array is not allowed. Please use `.get()` to construct a NumPy array explicitly.",
     "output_type": "error",
     "traceback": [
      "\u001b[0;31m---------------------------------------------------------------------------\u001b[0m",
      "\u001b[0;31mTypeError\u001b[0m                                 Traceback (most recent call last)",
      "Cell \u001b[0;32mIn[60], line 3\u001b[0m\n\u001b[1;32m      1\u001b[0m start_time_cp \u001b[38;5;241m=\u001b[39m time\u001b[38;5;241m.\u001b[39mtime()\n\u001b[0;32m----> 3\u001b[0m rolling_mean_cp \u001b[38;5;241m=\u001b[39m \u001b[43mdata_xr_cp\u001b[49m\u001b[38;5;241;43m.\u001b[39;49m\u001b[43mrolling\u001b[49m\u001b[43m(\u001b[49m\u001b[43mtime\u001b[49m\u001b[38;5;241;43m=\u001b[39;49m\u001b[38;5;241;43m10\u001b[39;49m\u001b[43m)\u001b[49m\u001b[38;5;241;43m.\u001b[39;49m\u001b[43mmean\u001b[49m\u001b[43m(\u001b[49m\u001b[43m)\u001b[49m\n\u001b[1;32m      5\u001b[0m end_time_cp \u001b[38;5;241m=\u001b[39m time\u001b[38;5;241m.\u001b[39mtime()\n\u001b[1;32m      6\u001b[0m time_cp \u001b[38;5;241m=\u001b[39m end_time_cp \u001b[38;5;241m-\u001b[39m start_time_cp\n",
      "File \u001b[0;32m/glade/work/negins/conda-envs/gpu-xdev/lib/python3.9/site-packages/xarray/core/rolling.py:155\u001b[0m, in \u001b[0;36mRolling._reduce_method.<locals>.method\u001b[0;34m(self, keep_attrs, **kwargs)\u001b[0m\n\u001b[1;32m    151\u001b[0m \u001b[38;5;28;01mdef\u001b[39;00m \u001b[38;5;21mmethod\u001b[39m(\u001b[38;5;28mself\u001b[39m, keep_attrs\u001b[38;5;241m=\u001b[39m\u001b[38;5;28;01mNone\u001b[39;00m, \u001b[38;5;241m*\u001b[39m\u001b[38;5;241m*\u001b[39mkwargs):\n\u001b[1;32m    153\u001b[0m     keep_attrs \u001b[38;5;241m=\u001b[39m \u001b[38;5;28mself\u001b[39m\u001b[38;5;241m.\u001b[39m_get_keep_attrs(keep_attrs)\n\u001b[0;32m--> 155\u001b[0m     \u001b[38;5;28;01mreturn\u001b[39;00m \u001b[38;5;28;43mself\u001b[39;49m\u001b[38;5;241;43m.\u001b[39;49m\u001b[43m_numpy_or_bottleneck_reduce\u001b[49m\u001b[43m(\u001b[49m\n\u001b[1;32m    156\u001b[0m \u001b[43m        \u001b[49m\u001b[43marray_agg_func\u001b[49m\u001b[43m,\u001b[49m\n\u001b[1;32m    157\u001b[0m \u001b[43m        \u001b[49m\u001b[43mbottleneck_move_func\u001b[49m\u001b[43m,\u001b[49m\n\u001b[1;32m    158\u001b[0m \u001b[43m        \u001b[49m\u001b[43mrolling_agg_func\u001b[49m\u001b[43m,\u001b[49m\n\u001b[1;32m    159\u001b[0m \u001b[43m        \u001b[49m\u001b[43mkeep_attrs\u001b[49m\u001b[38;5;241;43m=\u001b[39;49m\u001b[43mkeep_attrs\u001b[49m\u001b[43m,\u001b[49m\n\u001b[1;32m    160\u001b[0m \u001b[43m        \u001b[49m\u001b[43mfillna\u001b[49m\u001b[38;5;241;43m=\u001b[39;49m\u001b[43mfillna\u001b[49m\u001b[43m,\u001b[49m\n\u001b[1;32m    161\u001b[0m \u001b[43m        \u001b[49m\u001b[38;5;241;43m*\u001b[39;49m\u001b[38;5;241;43m*\u001b[39;49m\u001b[43mkwargs\u001b[49m\u001b[43m,\u001b[49m\n\u001b[1;32m    162\u001b[0m \u001b[43m    \u001b[49m\u001b[43m)\u001b[49m\n",
      "File \u001b[0;32m/glade/work/negins/conda-envs/gpu-xdev/lib/python3.9/site-packages/xarray/core/rolling.py:578\u001b[0m, in \u001b[0;36mDataArrayRolling._numpy_or_bottleneck_reduce\u001b[0;34m(self, array_agg_func, bottleneck_move_func, rolling_agg_func, keep_attrs, fillna, **kwargs)\u001b[0m\n\u001b[1;32m    567\u001b[0m     \u001b[38;5;28;01mdel\u001b[39;00m kwargs[\u001b[38;5;124m\"\u001b[39m\u001b[38;5;124mdim\u001b[39m\u001b[38;5;124m\"\u001b[39m]\n\u001b[1;32m    569\u001b[0m \u001b[38;5;28;01mif\u001b[39;00m (\n\u001b[1;32m    570\u001b[0m     OPTIONS[\u001b[38;5;124m\"\u001b[39m\u001b[38;5;124muse_bottleneck\u001b[39m\u001b[38;5;124m\"\u001b[39m]\n\u001b[1;32m    571\u001b[0m     \u001b[38;5;129;01mand\u001b[39;00m bottleneck_move_func \u001b[38;5;129;01mis\u001b[39;00m \u001b[38;5;129;01mnot\u001b[39;00m \u001b[38;5;28;01mNone\u001b[39;00m\n\u001b[0;32m   (...)\u001b[0m\n\u001b[1;32m    576\u001b[0m     \u001b[38;5;66;03m# underlying https://github.com/pydata/xarray/issues/2940 are\u001b[39;00m\n\u001b[1;32m    577\u001b[0m     \u001b[38;5;66;03m# fixed.\u001b[39;00m\n\u001b[0;32m--> 578\u001b[0m     \u001b[38;5;28;01mreturn\u001b[39;00m \u001b[38;5;28;43mself\u001b[39;49m\u001b[38;5;241;43m.\u001b[39;49m\u001b[43m_bottleneck_reduce\u001b[49m\u001b[43m(\u001b[49m\n\u001b[1;32m    579\u001b[0m \u001b[43m        \u001b[49m\u001b[43mbottleneck_move_func\u001b[49m\u001b[43m,\u001b[49m\u001b[43m \u001b[49m\u001b[43mkeep_attrs\u001b[49m\u001b[38;5;241;43m=\u001b[39;49m\u001b[43mkeep_attrs\u001b[49m\u001b[43m,\u001b[49m\u001b[43m \u001b[49m\u001b[38;5;241;43m*\u001b[39;49m\u001b[38;5;241;43m*\u001b[39;49m\u001b[43mkwargs\u001b[49m\n\u001b[1;32m    580\u001b[0m \u001b[43m    \u001b[49m\u001b[43m)\u001b[49m\n\u001b[1;32m    581\u001b[0m \u001b[38;5;28;01mif\u001b[39;00m rolling_agg_func:\n\u001b[1;32m    582\u001b[0m     \u001b[38;5;28;01mreturn\u001b[39;00m rolling_agg_func(\u001b[38;5;28mself\u001b[39m, keep_attrs\u001b[38;5;241m=\u001b[39m\u001b[38;5;28mself\u001b[39m\u001b[38;5;241m.\u001b[39m_get_keep_attrs(keep_attrs))\n",
      "File \u001b[0;32m/glade/work/negins/conda-envs/gpu-xdev/lib/python3.9/site-packages/xarray/core/rolling.py:539\u001b[0m, in \u001b[0;36mDataArrayRolling._bottleneck_reduce\u001b[0;34m(self, func, keep_attrs, **kwargs)\u001b[0m\n\u001b[1;32m    537\u001b[0m     \u001b[38;5;28;01mraise\u001b[39;00m \u001b[38;5;167;01mAssertionError\u001b[39;00m(\u001b[38;5;124m\"\u001b[39m\u001b[38;5;124mshould not be reachable\u001b[39m\u001b[38;5;124m\"\u001b[39m)\n\u001b[1;32m    538\u001b[0m \u001b[38;5;28;01melse\u001b[39;00m:\n\u001b[0;32m--> 539\u001b[0m     values \u001b[38;5;241m=\u001b[39m \u001b[43mfunc\u001b[49m\u001b[43m(\u001b[49m\n\u001b[1;32m    540\u001b[0m \u001b[43m        \u001b[49m\u001b[43mpadded\u001b[49m\u001b[38;5;241;43m.\u001b[39;49m\u001b[43mdata\u001b[49m\u001b[43m,\u001b[49m\u001b[43m \u001b[49m\u001b[43mwindow\u001b[49m\u001b[38;5;241;43m=\u001b[39;49m\u001b[38;5;28;43mself\u001b[39;49m\u001b[38;5;241;43m.\u001b[39;49m\u001b[43mwindow\u001b[49m\u001b[43m[\u001b[49m\u001b[38;5;241;43m0\u001b[39;49m\u001b[43m]\u001b[49m\u001b[43m,\u001b[49m\u001b[43m \u001b[49m\u001b[43mmin_count\u001b[49m\u001b[38;5;241;43m=\u001b[39;49m\u001b[43mmin_count\u001b[49m\u001b[43m,\u001b[49m\u001b[43m \u001b[49m\u001b[43maxis\u001b[49m\u001b[38;5;241;43m=\u001b[39;49m\u001b[43maxis\u001b[49m\n\u001b[1;32m    541\u001b[0m \u001b[43m    \u001b[49m\u001b[43m)\u001b[49m\n\u001b[1;32m    543\u001b[0m \u001b[38;5;28;01mif\u001b[39;00m \u001b[38;5;28mself\u001b[39m\u001b[38;5;241m.\u001b[39mcenter[\u001b[38;5;241m0\u001b[39m]:\n\u001b[1;32m    544\u001b[0m     values \u001b[38;5;241m=\u001b[39m values[valid]\n",
      "File \u001b[0;32mcupy/core/core.pyx:1188\u001b[0m, in \u001b[0;36mcupy.core.core.ndarray.__array__\u001b[0;34m()\u001b[0m\n",
      "\u001b[0;31mTypeError\u001b[0m: Implicit conversion to a NumPy array is not allowed. Please use `.get()` to construct a NumPy array explicitly."
     ]
    }
   ],
   "source": [
    "start_time_cp = time.time()\n",
    "\n",
    "rolling_mean_cp = data_xr_cp.rolling(time=10).mean()\n",
    "\n",
    "end_time_cp = time.time()\n",
    "time_cp = end_time_cp - start_time_cp"
   ]
  },
  {
   "cell_type": "markdown",
   "id": "b41d9787-44bd-4de6-a833-58469c165323",
   "metadata": {},
   "source": [
    "### Weighted Mean\n",
    "\n",
    "The weighted mean is another way to smooth data, taking into account the varying importance of each data point. Here, we'll use a uniform weight along the 'time' dimension:\n",
    "\n"
   ]
  },
  {
   "cell_type": "code",
   "execution_count": 66,
   "id": "a8f1d23d-04cd-4590-8ee4-ce4d0b125cd9",
   "metadata": {},
   "outputs": [
    {
     "ename": "ValueError",
     "evalue": "different number of dimensions on data and dims: 3 vs 1",
     "output_type": "error",
     "traceback": [
      "\u001b[0;31m---------------------------------------------------------------------------\u001b[0m",
      "\u001b[0;31mValueError\u001b[0m                                Traceback (most recent call last)",
      "Cell \u001b[0;32mIn[66], line 3\u001b[0m\n\u001b[1;32m      1\u001b[0m start_time_np \u001b[38;5;241m=\u001b[39m time\u001b[38;5;241m.\u001b[39mtime()\n\u001b[0;32m----> 3\u001b[0m weights_np \u001b[38;5;241m=\u001b[39m \u001b[43mxr\u001b[49m\u001b[38;5;241;43m.\u001b[39;49m\u001b[43mDataArray\u001b[49m\u001b[43m(\u001b[49m\u001b[43mnp\u001b[49m\u001b[38;5;241;43m.\u001b[39;49m\u001b[43mones_like\u001b[49m\u001b[43m(\u001b[49m\u001b[43mdata_np\u001b[49m\u001b[43m)\u001b[49m\u001b[43m,\u001b[49m\u001b[43m \u001b[49m\u001b[43mdims\u001b[49m\u001b[38;5;241;43m=\u001b[39;49m\u001b[38;5;124;43m\"\u001b[39;49m\u001b[38;5;124;43mtime\u001b[39;49m\u001b[38;5;124;43m\"\u001b[39;49m\u001b[43m)\u001b[49m\n\u001b[1;32m      4\u001b[0m weighted_mean_np \u001b[38;5;241m=\u001b[39m data_xr_np\u001b[38;5;241m.\u001b[39mweighted(weights_np)\u001b[38;5;241m.\u001b[39mmean(dim\u001b[38;5;241m=\u001b[39m\u001b[38;5;124m'\u001b[39m\u001b[38;5;124mtime\u001b[39m\u001b[38;5;124m'\u001b[39m)\n\u001b[1;32m      6\u001b[0m end_time_np \u001b[38;5;241m=\u001b[39m time\u001b[38;5;241m.\u001b[39mtime()\n",
      "File \u001b[0;32m/glade/work/negins/conda-envs/gpu-xdev/lib/python3.9/site-packages/xarray/core/dataarray.py:428\u001b[0m, in \u001b[0;36mDataArray.__init__\u001b[0;34m(self, data, coords, dims, name, attrs, indexes, fastpath)\u001b[0m\n\u001b[1;32m    426\u001b[0m data \u001b[38;5;241m=\u001b[39m _check_data_shape(data, coords, dims)\n\u001b[1;32m    427\u001b[0m data \u001b[38;5;241m=\u001b[39m as_compatible_data(data)\n\u001b[0;32m--> 428\u001b[0m coords, dims \u001b[38;5;241m=\u001b[39m \u001b[43m_infer_coords_and_dims\u001b[49m\u001b[43m(\u001b[49m\u001b[43mdata\u001b[49m\u001b[38;5;241;43m.\u001b[39;49m\u001b[43mshape\u001b[49m\u001b[43m,\u001b[49m\u001b[43m \u001b[49m\u001b[43mcoords\u001b[49m\u001b[43m,\u001b[49m\u001b[43m \u001b[49m\u001b[43mdims\u001b[49m\u001b[43m)\u001b[49m\n\u001b[1;32m    429\u001b[0m variable \u001b[38;5;241m=\u001b[39m Variable(dims, data, attrs, fastpath\u001b[38;5;241m=\u001b[39m\u001b[38;5;28;01mTrue\u001b[39;00m)\n\u001b[1;32m    430\u001b[0m indexes, coords \u001b[38;5;241m=\u001b[39m _create_indexes_from_coords(coords)\n",
      "File \u001b[0;32m/glade/work/negins/conda-envs/gpu-xdev/lib/python3.9/site-packages/xarray/core/dataarray.py:142\u001b[0m, in \u001b[0;36m_infer_coords_and_dims\u001b[0;34m(shape, coords, dims)\u001b[0m\n\u001b[1;32m    140\u001b[0m     dims \u001b[38;5;241m=\u001b[39m \u001b[38;5;28mtuple\u001b[39m(dims)\n\u001b[1;32m    141\u001b[0m \u001b[38;5;28;01melif\u001b[39;00m \u001b[38;5;28mlen\u001b[39m(dims) \u001b[38;5;241m!=\u001b[39m \u001b[38;5;28mlen\u001b[39m(shape):\n\u001b[0;32m--> 142\u001b[0m     \u001b[38;5;28;01mraise\u001b[39;00m \u001b[38;5;167;01mValueError\u001b[39;00m(\n\u001b[1;32m    143\u001b[0m         \u001b[38;5;124m\"\u001b[39m\u001b[38;5;124mdifferent number of dimensions on data \u001b[39m\u001b[38;5;124m\"\u001b[39m\n\u001b[1;32m    144\u001b[0m         \u001b[38;5;124mf\u001b[39m\u001b[38;5;124m\"\u001b[39m\u001b[38;5;124mand dims: \u001b[39m\u001b[38;5;132;01m{\u001b[39;00m\u001b[38;5;28mlen\u001b[39m(shape)\u001b[38;5;132;01m}\u001b[39;00m\u001b[38;5;124m vs \u001b[39m\u001b[38;5;132;01m{\u001b[39;00m\u001b[38;5;28mlen\u001b[39m(dims)\u001b[38;5;132;01m}\u001b[39;00m\u001b[38;5;124m\"\u001b[39m\n\u001b[1;32m    145\u001b[0m     )\n\u001b[1;32m    146\u001b[0m \u001b[38;5;28;01melse\u001b[39;00m:\n\u001b[1;32m    147\u001b[0m     \u001b[38;5;28;01mfor\u001b[39;00m d \u001b[38;5;129;01min\u001b[39;00m dims:\n",
      "\u001b[0;31mValueError\u001b[0m: different number of dimensions on data and dims: 3 vs 1"
     ]
    }
   ],
   "source": [
    "start_time_np = time.time()\n",
    "\n",
    "weights_np = xr.DataArray(np.ones_like(data_np), dims=\"time\")\n",
    "weighted_mean_np = data_xr_np.weighted(weights_np).mean(dim='time')\n",
    "\n",
    "end_time_np = time.time()\n",
    "time_np = end_time_np - start_time_np\n"
   ]
  },
  {
   "cell_type": "markdown",
   "id": "480c565e-c6cc-4809-acb1-4d5a146f1a93",
   "metadata": {},
   "source": [
    "Plotting Works:"
   ]
  }
 ],
 "metadata": {
  "kernelspec": {
   "display_name": "Python [conda env:gpu-xdev]",
   "language": "python",
   "name": "conda-env-gpu-xdev-py"
  },
  "language_info": {
   "codemirror_mode": {
    "name": "ipython",
    "version": 3
   },
   "file_extension": ".py",
   "mimetype": "text/x-python",
   "name": "python",
   "nbconvert_exporter": "python",
   "pygments_lexer": "ipython3",
   "version": "3.9.15"
  },
  "widgets": {
   "application/vnd.jupyter.widget-state+json": {
    "state": {},
    "version_major": 2,
    "version_minor": 0
   }
  }
 },
 "nbformat": 4,
 "nbformat_minor": 5
}
