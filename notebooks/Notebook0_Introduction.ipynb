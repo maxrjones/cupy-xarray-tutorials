{
 "cells": [
  {
   "cell_type": "markdown",
   "id": "0d6fecdf-48c0-4745-b802-2117fb3137cf",
   "metadata": {},
   "source": [
    "# Basics of CuPy"
   ]
  },
  {
   "cell_type": "markdown",
   "id": "33f29f17-cfd2-478a-b913-6b126394df3a",
   "metadata": {},
   "source": [
    "**Negin Sobhani**, **Deepak Cherian**, and **Max Jones**\n",
    "\n",
    "negins@ucar.edu, dcherian@ucar.edu, max@carbonplan.org\n",
    "\n",
    "------------"
   ]
  },
  {
   "cell_type": "markdown",
   "id": "15a05d43-0bf5-48d3-9c88-6074eed82a04",
   "metadata": {},
   "source": [
    "## Overview\n",
    "### In this tutorial, you learn:\n",
    "\n",
    "* Basics of Cupy and GPU comuting\n",
    "* Compare speeds to NumPy\n",
    "\n",
    "## Introduction to CuPy\n",
    "CuPy is an open-source GPU-accelerated array library for Python that is compatible with NumPy. \n",
    "\n",
    "<img src=\"https://miro.medium.com/v2/resize:fit:720/format:webp/0*Qg5AIeVmg2nnP2XV.png\" width=\"500\">\n",
    "\n",
    "CuPy uses NVIDIA CUDA to run operations on the GPU, which can provide significant performance improvements for numerical computations compared to running on the CPU. CuPy provides a NumPy-like interface for array manipulation and supports a wide range of mathematical operations, making it a powerful tool for scientific computing.\n",
    "\n",
    "<div class=\"alert alert-block alert-success\">\n",
    "<b> In simple terms, CuPy can be described as the GPU equivalent of NumPy.</b>\n",
    "</div>\n",
    "\n",
    "CuPy is a library that parallels NumPy's capabilities, but with a few key distinctions that are important for GPU computing. It provides:\n",
    "\n",
    "* An object similar to NumPy's multidimensional array, except that it resides in the memory of the GPU, allowing for faster computations involving large data sets.\n",
    "\n",
    "* A system for applying \"universal functions\" (ufuncs) that adhere to broadcasting rules. This system leverages the parallel computing power of GPUs for better performance.\n",
    "\n",
    "* CuPy provides an extensive collection of CUDA-ready array functions. CUDA is NVIDIA's parallel computing platform and API model, which allows software developers to use a CUDA-enabled GPU for general purpose processing. CuPy's extensive set of pre-implemented mathematical functions can be used on arrays right off the bat, taking full advantage of GPU acceleration.\n",
    "\n",
    "For more information about CuPy, please visit:\n",
    "\n",
    "[CuPy Homepage](https://docs.cupy.dev/en/stable/index.html#)\n",
    "\n",
    "[CuPy Github](https://github.com/cupy/cupy)\n",
    "\n",
    "Throughout this tutorial, we will delve into these unique aspects of CuPy and demonstrate how they compare to their NumPy counterparts. Let's get started!"
   ]
  },
  {
   "cell_type": "markdown",
   "id": "77343efb-de6d-423c-b1cd-934c5d6d68e1",
   "metadata": {},
   "source": [
    "## Getting Started with CuPy"
   ]
  },
  {
   "cell_type": "markdown",
   "id": "1c0a8fe5-0923-464e-8ea0-77e8d46b7977",
   "metadata": {},
   "source": [
    "After the installation of CuPy, we can import it similar to Numpy:"
   ]
  },
  {
   "cell_type": "code",
   "execution_count": 1,
   "id": "55c72b7d-8899-4e2f-9432-e9cf1531cbdf",
   "metadata": {},
   "outputs": [],
   "source": [
    "## Import NumPy and CuPy\n",
    "import cupy as cp\n",
    "import numpy as np"
   ]
  },
  {
   "cell_type": "markdown",
   "id": "62af1f7c-0ac2-4bad-ab92-8f1bcfbaffe3",
   "metadata": {},
   "source": [
    "### Arrays in CuPy vs. NumPy\n",
    "\n",
    "CuPy arrays can be declared using the `cupy.ndarray` class, much like NumPy arrays using `numpy.ndarrays`. However, it is important to note that while NumPy arrays are generated on the CPU (referred to as the \"host\"), CuPy arrays are generated on the GPU (known as the \"device\").\n",
    "\n",
    "CuPy arrays look just like NumPy arrays:"
   ]
  },
  {
   "cell_type": "code",
   "execution_count": 2,
   "id": "c98d68a4-3b43-4a7d-91e2-53afdb121273",
   "metadata": {},
   "outputs": [
    {
     "name": "stdout",
     "output_type": "stream",
     "text": [
      "On the CPU:  [1 2 3 4 5]\n",
      "<class 'numpy.ndarray'>\n"
     ]
    }
   ],
   "source": [
    "# create a 1D array with 5 elements on CPU\n",
    "arr_cpu = np.array([1, 2, 3, 4, 5])\n",
    "print(\"On the CPU: \", arr_cpu)\n",
    "print (type(arr_cpu))"
   ]
  },
  {
   "cell_type": "code",
   "execution_count": 3,
   "id": "7f09bd38-67fd-465f-a3f7-547b2b989b62",
   "metadata": {},
   "outputs": [
    {
     "name": "stdout",
     "output_type": "stream",
     "text": [
      "On the GPU:  [1 2 3 4 5]\n",
      "<class 'cupy.ndarray'>\n"
     ]
    }
   ],
   "source": [
    "# create a 1D array with 5 elements on GPU\n",
    "arr_gpu = cp.array([1, 2, 3, 4, 5])\n",
    "print(\"On the GPU: \", arr_gpu)\n",
    "print (type(arr_gpu))"
   ]
  },
  {
   "cell_type": "markdown",
   "id": "e4d08c51-65a1-471f-841d-418ad0df592c",
   "metadata": {},
   "source": [
    " You can also create multi-dimensional arrays:"
   ]
  },
  {
   "cell_type": "code",
   "execution_count": 4,
   "id": "693b52b5-0b94-464d-b3bd-1c4a53b4f17d",
   "metadata": {},
   "outputs": [
    {
     "name": "stdout",
     "output_type": "stream",
     "text": [
      "On the CPU:  [[0. 0. 0. 0.]\n",
      " [0. 0. 0. 0.]\n",
      " [0. 0. 0. 0.]]\n",
      "<class 'numpy.ndarray'>\n"
     ]
    }
   ],
   "source": [
    "# create a 2D array of zeros with 3 rows and 4 columns\n",
    "arr_cpu = np.zeros((3, 4))\n",
    "print(\"On the CPU: \", arr_cpu)\n",
    "print (type(arr_cpu))"
   ]
  },
  {
   "cell_type": "code",
   "execution_count": 5,
   "id": "9845d93b-0d04-450b-ae68-47fc911f339d",
   "metadata": {},
   "outputs": [
    {
     "name": "stdout",
     "output_type": "stream",
     "text": [
      "On the GPU:  [[0. 0. 0. 0.]\n",
      " [0. 0. 0. 0.]\n",
      " [0. 0. 0. 0.]]\n",
      "<class 'cupy.ndarray'>\n"
     ]
    }
   ],
   "source": [
    "arr_gpu = cp.zeros((3, 4))\n",
    "print(\"On the GPU: \", arr_gpu)\n",
    "print (type(arr_gpu))"
   ]
  },
  {
   "cell_type": "markdown",
   "id": "266ab29b-d11f-419d-b52b-9b6be5638945",
   "metadata": {},
   "source": [
    "As we can see in the above examples, CuPy arrays look just like NumPy arrays, except that Cupy arrays are stored on GPUs vs. Numpy arrays are stored on CPUs. "
   ]
  },
  {
   "cell_type": "markdown",
   "id": "5398e305-063a-4b15-b259-5eddf29c8cf9",
   "metadata": {},
   "source": [
    "### Basic Operations \n",
    "CuPy provides equivalents for many common NumPy functions, although not all. Most of CuPy's functions have the same function call as their NumPy counterparts. See the reference for the supported subset of NumPy API.\n",
    "| | |\n",
    "| :--- | :--- |\n",
    "| **NumPy** | **CuPy** |\n",
    "| numpy.identity        | cupy.identity       |\n",
    "| numpy.matmul        | cupy.matmul       |\n",
    "| numpy.nan_to_num        | cupy.nan_to_num       |\n",
    "| numpy.zeros        | cupy.zeros       |\n",
    "| numpy.ones        | cupy.ones       |\n",
    "| numpy.shape        | cupy.shape       |\n",
    "| numpy.reshape        | cupy.reshape       |\n",
    "| numpy.tensordot        | cupy.tensordot       |\n",
    "| numpy.transpose        | cupy.transpose       |\n",
    "| numpy.fft.fft        | cupy.fft.fft       |\n",
    "\n",
    "Cupy also provides equivalant functions for some SciPy functions, but its implementation is not as extensive as NumPy's.\n",
    "\n",
    "A full list of CuPy's Numpy and Scipy equivalent functions are provided on the link below:\n",
    "\n",
    "[Complete Comparison of NumPy and SciPy to CuPy functions](https://docs.cupy.dev/en/stable/reference/comparison.html)\n",
    "\n",
    "[CuPy API Reference](https://docs.cupy.dev/en/stable/reference/index.html)"
   ]
  },
  {
   "cell_type": "code",
   "execution_count": 6,
   "id": "0850adf9-0c24-4687-b8de-1b7da734347e",
   "metadata": {},
   "outputs": [],
   "source": [
    "# NumPy: Create an array\n",
    "numpy_a = np.array([1, 2, 3, 4, 5])\n",
    "\n",
    "# CuPy: Create an array\n",
    "cupy_a = cp.array([1, 2, 3, 4, 5])"
   ]
  },
  {
   "cell_type": "markdown",
   "id": "45fe9f2a-e00f-4cfa-b0a5-eb5a5682e743",
   "metadata": {},
   "source": [
    "Basic arithmetic operations is exactly identical between numpy and cupy. "
   ]
  },
  {
   "cell_type": "code",
   "execution_count": 7,
   "id": "f6e7880b-2238-4c3b-a431-157e6c5389dc",
   "metadata": {},
   "outputs": [],
   "source": [
    "# Basic arithmetic operations\n",
    "numpy_b = numpy_a + 2\n",
    "cupy_b = cupy_a + 2\n",
    "\n",
    "numpy_c = numpy_a * 2\n",
    "cupy_c = cupy_a * 2\n",
    "\n",
    "numpy_d = numpy_a.dot(numpy_a)\n",
    "cupy_d = cupy_a.dot(cupy_a)\n",
    "\n",
    "# Reshaping arrays\n",
    "numpy_e = numpy_a.reshape(5, 1)\n",
    "cupy_e = cupy_a.reshape(5, 1)\n",
    "\n",
    "# Transposing arrays\n",
    "numpy_f = numpy_e.T\n",
    "cupy_f = cupy_e.T\n",
    "\n",
    "# Complex example: element-wise exponential and sum\n",
    "numpy_g = np.exp(numpy_a) / np.sum(np.exp(numpy_a))\n",
    "cupy_g = cp.exp(cupy_a) / cp.sum(cp.exp(cupy_a))"
   ]
  },
  {
   "cell_type": "markdown",
   "id": "9f25ee88-1adf-45fd-8b24-04e30fe4488f",
   "metadata": {},
   "source": [
    "### Data Transfer\n",
    "\n",
    "#### Data Transfer to a Device\n",
    "`cupy.asarray()` can be used to move a numpy array to a device (GPU)."
   ]
  },
  {
   "cell_type": "code",
   "execution_count": 8,
   "id": "20bd69c4-5a8b-4147-9169-efc65a49b5e4",
   "metadata": {},
   "outputs": [],
   "source": [
    "# Move data to GPU\n",
    "arr_gpu = cp.asarray(arr_cpu)"
   ]
  },
  {
   "cell_type": "markdown",
   "id": "39ccf012-f467-49f4-99cd-0eea489e21a0",
   "metadata": {},
   "source": [
    "#### Move array from GPU to the host\n",
    "\n",
    "Moving a device array to the host can be done by `cupy.asnumpy()` as follows:"
   ]
  },
  {
   "cell_type": "code",
   "execution_count": 9,
   "id": "2e557105-755f-48ec-977e-bedee81b99c9",
   "metadata": {},
   "outputs": [],
   "source": [
    "# Move data back to host\n",
    "arr_cpu = cp.asnumpy(arr_gpu)"
   ]
  },
  {
   "cell_type": "markdown",
   "id": "30386bbc-26b0-4afd-904b-30bb34d80d6a",
   "metadata": {},
   "source": [
    "We can also use `cupy.ndarray.get()`:"
   ]
  },
  {
   "cell_type": "code",
   "execution_count": 10,
   "id": "bc09a284-dbd1-4f30-b262-0761b2832bfa",
   "metadata": {},
   "outputs": [],
   "source": [
    "arr_cpu = arr_gpu.get()"
   ]
  },
  {
   "cell_type": "markdown",
   "id": "46dfb920-eb81-4cd1-b407-00099b76f633",
   "metadata": {
    "tags": []
   },
   "source": [
    "### Device Information \n",
    "CuPy introduces the concept of a current device, which represents the default GPU device for array allocation, manipulation, calculations, and other operations. \n",
    "\n",
    "`cupy.ndarray.device` attribute can be used to determine the device allocated to a CUPY array: "
   ]
  },
  {
   "cell_type": "code",
   "execution_count": 11,
   "id": "114120c2-99c1-4f0f-9ad8-40486dfff4e5",
   "metadata": {},
   "outputs": [
    {
     "data": {
      "text/plain": [
       "<CUDA Device 0>"
      ]
     },
     "execution_count": 11,
     "metadata": {},
     "output_type": "execute_result"
    }
   ],
   "source": [
    "cupy_g.device"
   ]
  },
  {
   "cell_type": "markdown",
   "id": "e6310585-8dbe-4cc4-a235-6694db49d44a",
   "metadata": {},
   "source": [
    "To obtain the total number of accessible devices, you can utilize the getDeviceCount function."
   ]
  },
  {
   "cell_type": "code",
   "execution_count": 12,
   "id": "e808fa97-7360-4f4a-b239-12d6a3cacbaf",
   "metadata": {},
   "outputs": [
    {
     "data": {
      "text/plain": [
       "1"
      ]
     },
     "execution_count": 12,
     "metadata": {},
     "output_type": "execute_result"
    }
   ],
   "source": [
    "cp.cuda.runtime.getDeviceCount()"
   ]
  },
  {
   "cell_type": "markdown",
   "id": "983b94ba-8127-461c-89cb-651fe123ccbb",
   "metadata": {},
   "source": [
    "The default behavior runs code on Device 0, but we can transfer arrays other devices with CuPy using `cp.cuda.Device()`. This capability becomes significantly important when your code is designed to harness the power of multiple GPUs. For example the following create an array on the GPU 2. \n",
    "\n",
    "``` python \n",
    "with cp.cuda.Device(2):\n",
    "    x_on_gpu2 = cp.array([1, 2, 3, 4, 5])\n",
    "```"
   ]
  },
  {
   "cell_type": "markdown",
   "id": "747151e6-dc5f-4444-a906-528d1066a1dd",
   "metadata": {},
   "source": [
    "## CuPy vs NumPy: Speed Comparison\n",
    "\n",
    "Now, let's explore the tangible benefits of using CuPy when dealing with large datasets. In particular, let's examine the significant performance improvements that CuPy can provide in comparison to NumPy."
   ]
  },
  {
   "cell_type": "code",
   "execution_count": 13,
   "id": "1545d1e5-3ae8-422b-95b5-cd88e7eb64e7",
   "metadata": {},
   "outputs": [
    {
     "name": "stdout",
     "output_type": "stream",
     "text": [
      "NumPy time: 0.6037507057189941 seconds\n",
      "CuPy time: 0.43988704681396484 seconds\n",
      "CuPy provides a 1.37 x speedup over NumPy.\n"
     ]
    }
   ],
   "source": [
    "import time\n",
    "\n",
    "# create two 1000x1000 matrices\n",
    "n = 3000\n",
    "\n",
    "a_np = np.random.rand(n, n)\n",
    "b_np = np.random.rand(n, n)\n",
    "\n",
    "a_cp = cp.asarray(a_np)\n",
    "b_cp = cp.asarray(b_np)\n",
    "\n",
    "# perform matrix multiplication with NumPy and time it\n",
    "start_time = time.time()\n",
    "c_np = np.dot(a_np, b_np)\n",
    "end_time = time.time()\n",
    "\n",
    "numpy_time = end_time - start_time\n",
    "print(\"NumPy time:\", numpy_time, \"seconds\")\n",
    "\n",
    "# perform matrix multiplication with CuPy and time it\n",
    "start_time = time.time()\n",
    "c_cp = cp.dot(a_cp, b_cp)\n",
    "cp.cuda.Stream.null.synchronize()  # wait for GPU computation to finish\n",
    "end_time = time.time()\n",
    "\n",
    "cupy_time = end_time - start_time\n",
    "\n",
    "print(\"CuPy time:\", cupy_time, \"seconds\")\n",
    "print(\"CuPy provides a\", round(numpy_time / cupy_time, 2), \"x speedup over NumPy.\")"
   ]
  },
  {
   "cell_type": "markdown",
   "id": "662bb0c3-4051-4125-b801-173b8b3c30b5",
   "metadata": {},
   "source": [
    "Now, let's make the same comparison with other array sizes:"
   ]
  },
  {
   "cell_type": "code",
   "execution_count": 14,
   "id": "bba9681e-ca7b-486c-92c8-1a79434ba0da",
   "metadata": {},
   "outputs": [
    {
     "name": "stdout",
     "output_type": "stream",
     "text": [
      "n = 10\n",
      "CuPy provides a 1.85 x speedup over NumPy.\n",
      "\n",
      "n = 100\n",
      "CuPy provides a 0.98 x speedup over NumPy.\n",
      "\n",
      "n = 1000\n",
      "CuPy provides a 43.48 x speedup over NumPy.\n",
      "\n",
      "n = 5000\n",
      "CuPy provides a 71.07 x speedup over NumPy.\n",
      "\n",
      "n = 10000\n",
      "CuPy provides a 67.87 x speedup over NumPy.\n",
      "\n"
     ]
    }
   ],
   "source": [
    "for n in [10, 100, 1000, 5000, 10000]:\n",
    "    print(\"n =\", n)\n",
    "\n",
    "    # create two nxn matrices\n",
    "    a_np = np.random.rand(n, n)\n",
    "    b_np = np.random.rand(n, n)\n",
    "    a_cp = cp.asarray(a_np)\n",
    "    b_cp = cp.asarray(b_np)\n",
    "\n",
    "    # perform matrix multiplication with NumPy and time it\n",
    "    start_time = time.time()\n",
    "    c_np = np.dot(a_np, b_np)\n",
    "    end_time = time.time()\n",
    "    numpy_time = end_time - start_time\n",
    "\n",
    "    # perform matrix multiplication with CuPy and time it\n",
    "    start_time = time.time()\n",
    "    c_cp = cp.dot(a_cp, b_cp)\n",
    "    cp.cuda.Stream.null.synchronize()  # wait for GPU computation to finish\n",
    "    end_time = time.time()\n",
    "    cupy_time = end_time - start_time\n",
    "\n",
    "    # print the speedup\n",
    "    print(\"CuPy provides a\", round(numpy_time / cupy_time,2), \"x speedup over NumPy.\\n\")"
   ]
  },
  {
   "cell_type": "markdown",
   "id": "93da5acf-ba39-4617-8246-ac7f7b3fd8df",
   "metadata": {},
   "source": [
    "As we can see above, GPUs can be much slower than CPUs. There are several reasons for this: \n",
    "    \n",
    "* The size of our arrays: The GPU's performance relies on parallelism, processing thousands of values simultaneously. To fully leverage the GPU's capabilities, we require a significantly larger array.\n",
    "\n",
    "* The simplicity of our calculation: Transferring a calculation to the GPU involves considerable overhead compared to executing a function on the CPU. If our calculation lacks a sufficient number of mathematical operations (known as \"arithmetic intensity\"), the GPU will spend most of its time waiting for data movement.\n",
    "\n",
    "* Data copying to and from the GPU impacts performance: While including copy time can be realistic for a single function, there are instances where we need to execute multiple GPU operations sequentially. In such cases, it is advantageous to transfer data to the GPU and keep it there until all processing is complete."
   ]
  },
  {
   "cell_type": "code",
   "execution_count": 15,
   "id": "1746c7d2-338a-4243-a120-0eaa1c676b32",
   "metadata": {},
   "outputs": [
    {
     "ename": "SyntaxError",
     "evalue": "invalid syntax (2804433560.py, line 3)",
     "output_type": "error",
     "traceback": [
      "\u001b[0;36m  Cell \u001b[0;32mIn[15], line 3\u001b[0;36m\u001b[0m\n\u001b[0;31m    In this notebook, we have learned about:\u001b[0m\n\u001b[0m       ^\u001b[0m\n\u001b[0;31mSyntaxError\u001b[0m\u001b[0;31m:\u001b[0m invalid syntax\n"
     ]
    }
   ],
   "source": [
    "Congratulations! You have now uncovered the capabilities of CuPy. It's time to unleash its power and accelerate your own code by seamlessly replacing NumPy with CuPy wherever applicable. \n",
    "\n",
    "## Summary\n",
    "\n",
    "In this notebook, we have learned about:\n",
    "\n",
    "* Cupy Basics\n",
    "* Performance Cupy vs. Numpy on different array sizes. \n",
    "\n",
    "## \n",
    "[CuPy Homepage](https://docs.cupy.dev/en/stable/index.html#)\n",
    "\n",
    "[CuPy Github](https://github.com/cupy/cupy)"
   ]
  },
  {
   "cell_type": "code",
   "execution_count": null,
   "id": "f5cea1e9-8082-430a-b5c4-6541c54037d0",
   "metadata": {},
   "outputs": [],
   "source": []
  }
 ],
 "metadata": {
  "kernelspec": {
   "display_name": "Python [conda env:gpu-xdev]",
   "language": "python",
   "name": "conda-env-gpu-xdev-py"
  },
  "language_info": {
   "codemirror_mode": {
    "name": "ipython",
    "version": 3
   },
   "file_extension": ".py",
   "mimetype": "text/x-python",
   "name": "python",
   "nbconvert_exporter": "python",
   "pygments_lexer": "ipython3",
   "version": "3.9.15"
  },
  "widgets": {
   "application/vnd.jupyter.widget-state+json": {
    "state": {},
    "version_major": 2,
    "version_minor": 0
   }
  }
 },
 "nbformat": 4,
 "nbformat_minor": 5
}
