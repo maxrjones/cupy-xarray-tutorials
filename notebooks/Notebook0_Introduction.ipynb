{
 "cells": [
  {
   "cell_type": "markdown",
   "id": "0d6fecdf-48c0-4745-b802-2117fb3137cf",
   "metadata": {},
   "source": [
    "# Introduction to CuPy"
   ]
  },
  {
   "cell_type": "markdown",
   "id": "33f29f17-cfd2-478a-b913-6b126394df3a",
   "metadata": {},
   "source": [
    "Negin Sobhani, Deepak Cherian, and Max Jones  \n",
    "negins@ucar.edu, dcherian@ucar.edu, max@carbonplan.org\n",
    "\n",
    "------------"
   ]
  },
  {
   "cell_type": "markdown",
   "id": "15a05d43-0bf5-48d3-9c88-6074eed82a04",
   "metadata": {},
   "source": [
    "\n",
    "## Introduction to CuPy\n",
    "CuPy is an open-source GPU-accelerated array library for Python that is compatible with NumPy. \n",
    "\n",
    "<img src=\"https://miro.medium.com/v2/resize:fit:720/format:webp/0*Qg5AIeVmg2nnP2XV.png\" width=\"500\">\n",
    "\n",
    "CuPy uses NVIDIA CUDA to run operations on the GPU, which can provide significant performance improvements for numerical computations compared to running on the CPU. CuPy provides a NumPy-like interface for array manipulation and supports a wide range of mathematical operations, making it a powerful tool for scientific computing.\n",
    "\n",
    "<div class=\"alert alert-block alert-success\">\n",
    "<b> In simple terms, CuPy can be described as the GPU equivalent of NumPy.</b>\n",
    "</div>\n"
   ]
  },
  {
   "cell_type": "markdown",
   "id": "77343efb-de6d-423c-b1cd-934c5d6d68e1",
   "metadata": {},
   "source": [
    "### Import NumPy and CuPy"
   ]
  },
  {
   "cell_type": "markdown",
   "id": "1c0a8fe5-0923-464e-8ea0-77e8d46b7977",
   "metadata": {},
   "source": [
    "After the installation of CuPy, we can import it similar to Numpy."
   ]
  },
  {
   "cell_type": "code",
   "execution_count": 1,
   "id": "55c72b7d-8899-4e2f-9432-e9cf1531cbdf",
   "metadata": {},
   "outputs": [],
   "source": [
    "## Import NumPy and CuPy\n",
    "import cupy as cp\n",
    "import numpy as np"
   ]
  },
  {
   "cell_type": "markdown",
   "id": "62af1f7c-0ac2-4bad-ab92-8f1bcfbaffe3",
   "metadata": {},
   "source": [
    "### Creating Arrays in CuPy vs. NumPy\n"
   ]
  },
  {
   "cell_type": "code",
   "execution_count": 2,
   "id": "c98d68a4-3b43-4a7d-91e2-53afdb121273",
   "metadata": {},
   "outputs": [
    {
     "name": "stdout",
     "output_type": "stream",
     "text": [
      "On the CPU:  [1 2 3 4 5]\n",
      "<class 'numpy.ndarray'>\n"
     ]
    }
   ],
   "source": [
    "# create a 1D array with 5 elements on CPU\n",
    "arr_cpu = np.array([1, 2, 3, 4, 5])\n",
    "print(\"On the CPU: \", arr_cpu)\n",
    "print (type(arr_cpu))"
   ]
  },
  {
   "cell_type": "code",
   "execution_count": 3,
   "id": "7f09bd38-67fd-465f-a3f7-547b2b989b62",
   "metadata": {},
   "outputs": [
    {
     "name": "stdout",
     "output_type": "stream",
     "text": [
      "On the GPU:  [1 2 3 4 5]\n",
      "<class 'cupy.ndarray'>\n"
     ]
    }
   ],
   "source": [
    "# create a 1D array with 5 elements on GPU\n",
    "arr_gpu = cp.array([1, 2, 3, 4, 5])\n",
    "print(\"On the GPU: \", arr_gpu)\n",
    "print (type(arr_gpu))"
   ]
  },
  {
   "cell_type": "markdown",
   "id": "e4d08c51-65a1-471f-841d-418ad0df592c",
   "metadata": {},
   "source": [
    "You can also create multi-dimensional arrays."
   ]
  },
  {
   "cell_type": "code",
   "execution_count": 4,
   "id": "693b52b5-0b94-464d-b3bd-1c4a53b4f17d",
   "metadata": {},
   "outputs": [
    {
     "name": "stdout",
     "output_type": "stream",
     "text": [
      "On the CPU:  [[0. 0. 0. 0.]\n",
      " [0. 0. 0. 0.]\n",
      " [0. 0. 0. 0.]]\n",
      "<class 'numpy.ndarray'>\n"
     ]
    }
   ],
   "source": [
    "# create a 2D array of zeros with 3 rows and 4 columns\n",
    "arr_cpu = np.zeros((3, 4))\n",
    "print(\"On the CPU: \", arr_cpu)\n",
    "print (type(arr_cpu))"
   ]
  },
  {
   "cell_type": "code",
   "execution_count": 5,
   "id": "9845d93b-0d04-450b-ae68-47fc911f339d",
   "metadata": {},
   "outputs": [
    {
     "name": "stdout",
     "output_type": "stream",
     "text": [
      "On the GPU:  [[0. 0. 0. 0.]\n",
      " [0. 0. 0. 0.]\n",
      " [0. 0. 0. 0.]]\n",
      "<class 'cupy.ndarray'>\n"
     ]
    }
   ],
   "source": [
    "arr_gpu = cp.zeros((3, 4))\n",
    "print(\"On the GPU: \", arr_gpu)\n",
    "print (type(arr_gpu))"
   ]
  },
  {
   "cell_type": "markdown",
   "id": "5398e305-063a-4b15-b259-5eddf29c8cf9",
   "metadata": {},
   "source": [
    "### Basic Operations \n",
    "CuPy provides a set of basic operations that are similar to those of NumPy. See the reference for the supported subset of NumPy API."
   ]
  },
  {
   "cell_type": "code",
   "execution_count": 6,
   "id": "0850adf9-0c24-4687-b8de-1b7da734347e",
   "metadata": {},
   "outputs": [],
   "source": [
    "# NumPy: Create an array\n",
    "numpy_a = np.array([1, 2, 3, 4, 5])\n",
    "\n",
    "# CuPy: Create an array\n",
    "cupy_a = cp.array([1, 2, 3, 4, 5])"
   ]
  },
  {
   "cell_type": "code",
   "execution_count": 7,
   "id": "f6e7880b-2238-4c3b-a431-157e6c5389dc",
   "metadata": {},
   "outputs": [],
   "source": [
    "# Basic arithmetic operations\n",
    "numpy_b = numpy_a + 2\n",
    "cupy_b = cupy_a + 2\n",
    "\n",
    "numpy_c = numpy_a * 2\n",
    "cupy_c = cupy_a * 2\n",
    "\n",
    "numpy_d = numpy_a.dot(numpy_a)\n",
    "cupy_d = cupy_a.dot(cupy_a)\n",
    "\n",
    "# Reshaping arrays\n",
    "numpy_e = numpy_a.reshape(5, 1)\n",
    "cupy_e = cupy_a.reshape(5, 1)\n",
    "\n",
    "# Transposing arrays\n",
    "numpy_f = numpy_e.T\n",
    "cupy_f = cupy_e.T\n",
    "\n",
    "# Complex example: element-wise exponential and sum\n",
    "numpy_g = np.exp(numpy_a) / np.sum(np.exp(numpy_a))\n",
    "cupy_g = cp.exp(cupy_a) / cp.sum(cp.exp(cupy_a))"
   ]
  },
  {
   "cell_type": "markdown",
   "id": "9f25ee88-1adf-45fd-8b24-04e30fe4488f",
   "metadata": {},
   "source": [
    "### Moving Data between Host and Device\n",
    "\n",
    "`cupy.asarray()` can be used to move a numpy array to GPU."
   ]
  },
  {
   "cell_type": "code",
   "execution_count": 8,
   "id": "20bd69c4-5a8b-4147-9169-efc65a49b5e4",
   "metadata": {},
   "outputs": [],
   "source": [
    "# Move data to GPU\n",
    "arr_gpu = cp.asarray(arr_cpu)"
   ]
  },
  {
   "cell_type": "markdown",
   "id": "39ccf012-f467-49f4-99cd-0eea489e21a0",
   "metadata": {},
   "source": [
    "Move array from GPU to the host\n",
    "\n",
    "Moving a device array to the host can be done by `cupy.asnumpy()` as follows:"
   ]
  },
  {
   "cell_type": "code",
   "execution_count": 9,
   "id": "2e557105-755f-48ec-977e-bedee81b99c9",
   "metadata": {},
   "outputs": [],
   "source": [
    "# Move data back to host\n",
    "arr_cpu = cp.asnumpy(arr_gpu)"
   ]
  },
  {
   "cell_type": "markdown",
   "id": "30386bbc-26b0-4afd-904b-30bb34d80d6a",
   "metadata": {},
   "source": [
    "We can also use `cupy.ndarray.get()`:"
   ]
  },
  {
   "cell_type": "code",
   "execution_count": 10,
   "id": "bc09a284-dbd1-4f30-b262-0761b2832bfa",
   "metadata": {},
   "outputs": [],
   "source": [
    "arr_cpu = arr_gpu.get()"
   ]
  },
  {
   "cell_type": "markdown",
   "id": "46dfb920-eb81-4cd1-b407-00099b76f633",
   "metadata": {
    "tags": []
   },
   "source": [
    "### Device Information \n",
    "\n",
    "When using the nvidia-smi command, you can recognize and then utilize devices with CuPy. This capability becomes significantly important when your code is designed to harness the power of multiple GPUs. By default, operations are executed on Device 0. Below is an example of how to explicitly direct an operation to execute on Device 0:"
   ]
  },
  {
   "cell_type": "code",
   "execution_count": 11,
   "id": "114120c2-99c1-4f0f-9ad8-40486dfff4e5",
   "metadata": {},
   "outputs": [
    {
     "data": {
      "text/plain": [
       "<CUDA Device 0>"
      ]
     },
     "execution_count": 11,
     "metadata": {},
     "output_type": "execute_result"
    }
   ],
   "source": [
    "cupy_g.device"
   ]
  },
  {
   "cell_type": "markdown",
   "id": "7c1a7f95-b5b6-47c5-b2d7-67c140ef2bab",
   "metadata": {},
   "source": [
    "### Moving Data between Host and Device\n"
   ]
  },
  {
   "cell_type": "code",
   "execution_count": 12,
   "id": "d62b09c8-c362-4c4b-9b4d-9dd88fc98a12",
   "metadata": {},
   "outputs": [],
   "source": [
    "# Move data to GPU\n",
    "arr_gpu = cp.asarray(arr_cpu)\n",
    "\n",
    "# Move data back to host\n",
    "arr_cpu = cp.asnumpy(arr_gpu)"
   ]
  },
  {
   "cell_type": "markdown",
   "id": "ac17a9bd-c963-42f2-8447-b298f8ef8cc9",
   "metadata": {},
   "source": [
    "## CuPy Implemented Functions\n",
    "CuPy has equivalents for many of the commonly used NumPy functions, but not all. Here is a short list of the NumPy function with it's CuPy equivalent. You can see almost all of CuPy's functions will use the same function call as its NumPy equivalent.\n"
   ]
  },
  {
   "cell_type": "markdown",
   "id": "747151e6-dc5f-4444-a906-528d1066a1dd",
   "metadata": {},
   "source": [
    "## CuPy vs NumPy: Speed Comparison"
   ]
  },
  {
   "cell_type": "code",
   "execution_count": 13,
   "id": "1545d1e5-3ae8-422b-95b5-cd88e7eb64e7",
   "metadata": {},
   "outputs": [
    {
     "name": "stdout",
     "output_type": "stream",
     "text": [
      "NumPy time: 0.19883275032043457 seconds\n",
      "CuPy time: 4.461655616760254 seconds\n",
      "CuPy provides a 0.04 x speedup over NumPy.\n"
     ]
    }
   ],
   "source": [
    "import time\n",
    "\n",
    "# create two 1000x1000 matrices\n",
    "n = 1000\n",
    "\n",
    "a_np = np.random.rand(n, n)\n",
    "b_np = np.random.rand(n, n)\n",
    "\n",
    "a_cp = cp.asarray(a_np)\n",
    "b_cp = cp.asarray(b_np)\n",
    "\n",
    "# perform matrix multiplication with NumPy and time it\n",
    "start_time = time.time()\n",
    "c_np = np.dot(a_np, b_np)\n",
    "end_time = time.time()\n",
    "\n",
    "numpy_time = end_time - start_time\n",
    "print(\"NumPy time:\", numpy_time, \"seconds\")\n",
    "\n",
    "# perform matrix multiplication with CuPy and time it\n",
    "start_time = time.time()\n",
    "c_cp = cp.dot(a_cp, b_cp)\n",
    "cp.cuda.Stream.null.synchronize()  # wait for GPU computation to finish\n",
    "end_time = time.time()\n",
    "\n",
    "cupy_time = end_time - start_time\n",
    "\n",
    "print(\"CuPy time:\", cupy_time, \"seconds\")\n",
    "print(\"CuPy provides a\", round(numpy_time / cupy_time, 2), \"x speedup over NumPy.\")"
   ]
  },
  {
   "cell_type": "markdown",
   "id": "662bb0c3-4051-4125-b801-173b8b3c30b5",
   "metadata": {},
   "source": [
    "Now, let's make the same comparison with other array sizes:"
   ]
  },
  {
   "cell_type": "code",
   "execution_count": 14,
   "id": "bba9681e-ca7b-486c-92c8-1a79434ba0da",
   "metadata": {},
   "outputs": [
    {
     "name": "stdout",
     "output_type": "stream",
     "text": [
      "n = 10\n",
      "CuPy provides a 0.4 x speedup over NumPy.\n",
      "\n",
      "n = 100\n",
      "CuPy provides a 0.58 x speedup over NumPy.\n",
      "\n",
      "n = 1000\n",
      "CuPy provides a 45.95 x speedup over NumPy.\n",
      "\n",
      "n = 5000\n",
      "CuPy provides a 64.83 x speedup over NumPy.\n",
      "\n",
      "n = 10000\n",
      "CuPy provides a 67.78 x speedup over NumPy.\n",
      "\n"
     ]
    }
   ],
   "source": [
    "for n in [10, 100, 1000, 5000, 10000]:\n",
    "    print(\"n =\", n)\n",
    "\n",
    "    # create two nxn matrices\n",
    "    a_np = np.random.rand(n, n)\n",
    "    b_np = np.random.rand(n, n)\n",
    "    a_cp = cp.asarray(a_np)\n",
    "    b_cp = cp.asarray(b_np)\n",
    "\n",
    "    # perform matrix multiplication with NumPy and time it\n",
    "    start_time = time.time()\n",
    "    c_np = np.dot(a_np, b_np)\n",
    "    end_time = time.time()\n",
    "    numpy_time = end_time - start_time\n",
    "\n",
    "    # perform matrix multiplication with CuPy and time it\n",
    "    start_time = time.time()\n",
    "    c_cp = cp.dot(a_cp, b_cp)\n",
    "    cp.cuda.Stream.null.synchronize()  # wait for GPU computation to finish\n",
    "    end_time = time.time()\n",
    "    cupy_time = end_time - start_time\n",
    "\n",
    "    # print the speedup\n",
    "    print(\"CuPy provides a\", round(numpy_time / cupy_time,2), \"x speedup over NumPy.\\n\")"
   ]
  },
  {
   "cell_type": "code",
   "execution_count": null,
   "id": "9f672dd8-2971-45ee-808b-1354d4bc01d5",
   "metadata": {},
   "outputs": [],
   "source": []
  }
 ],
 "metadata": {
  "kernelspec": {
   "display_name": "Python [conda env:gpu-xdev]",
   "language": "python",
   "name": "conda-env-gpu-xdev-py"
  },
  "language_info": {
   "codemirror_mode": {
    "name": "ipython",
    "version": 3
   },
   "file_extension": ".py",
   "mimetype": "text/x-python",
   "name": "python",
   "nbconvert_exporter": "python",
   "pygments_lexer": "ipython3",
   "version": "3.9.15"
  },
  "widgets": {
   "application/vnd.jupyter.widget-state+json": {
    "state": {},
    "version_major": 2,
    "version_minor": 0
   }
  }
 },
 "nbformat": 4,
 "nbformat_minor": 5
}
